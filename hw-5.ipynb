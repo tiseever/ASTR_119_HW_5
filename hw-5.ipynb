{
 "cells": [
  {
   "cell_type": "code",
   "execution_count": null,
   "metadata": {},
   "outputs": [],
   "source": [
    "%matplotlib inline\n",
    "import numpy as np\n",
    "import matplotlib.pyplot as plt"
   ]
  },
  {
   "cell_type": "markdown",
   "metadata": {},
   "source": [
    "## Define our coupled variables to integrate"
   ]
  },
  {
   "cell_type": "code",
   "execution_count": null,
   "metadata": {},
   "outputs": [],
   "source": [
    "def dydx(x,y):\n",
    "    y_derivs = np.zeros(2)\n",
    "    y_derivs[0] = y[1]\n",
    "    y_derivs[1] = -1*y[0]\n",
    "    return y_derivs"
   ]
  },
  {
   "cell_type": "markdown",
   "metadata": {},
   "source": [
    "## Define the 4th order RK method"
   ]
  },
  {
   "cell_type": "code",
   "execution_count": null,
   "metadata": {},
   "outputs": [],
   "source": [
    "def rk4_mv_core(dydx,xi,yi,nv,h):\n",
    "    k1 = np.zeros(nv)\n",
    "    k2 = np.zeros(nv)\n",
    "    k3 = np.zeros(nv)\n",
    "    k4 = np.zeros(nv)\n",
    "    \n",
    "    x_ipoh = xi + 0.5*h\n",
    "    x_ipo = xi + h\n",
    "    y_temp = np.zeros(nv)\n",
    "    \n",
    "    y_derivs = dydx(xi,yi)\n",
    "    k1[:] = h*y_derivs[:]\n",
    "    \n",
    "    y_temp[:] = yi[:] + 0.5*k1[:]\n",
    "    y_derivs = dydx(x_ipoh,y_temp)\n",
    "    k2[:] = h*y_derivs[:]\n",
    "    \n",
    "    y_temp[:] = yi[:] + 0.5*k2[:]\n",
    "    y_derivs = dydx(x_ipoh,y_temp)\n",
    "    k3[:] = h*y_derivs[:]\n",
    "    \n",
    "    y_temp[:] = yi[:] + k3[:]\n",
    "    y_derivs = dydx(x_ipo,y_temp)\n",
    "    k4[:] = h*y_derivs[:]\n",
    "    \n",
    "    yipo = yi +(k1 + 2*k2 + 2*k3 +k4)/6\n",
    "    return yipo"
   ]
  },
  {
   "cell_type": "markdown",
   "metadata": {},
   "source": [
    "## Define an adaptive step size driver for RK4"
   ]
  },
  {
   "cell_type": "code",
   "execution_count": null,
   "metadata": {},
   "outputs": [],
   "source": [
    "def rk4_mv_ad(dydx,x_i,y_i,nv,h,tol):\n",
    "    SAFETY = 0.9\n",
    "    H_NEW_FAC = 2.0\n",
    "    imax= 10000\n",
    "    i =0\n",
    "    Delta = np.full(nv, 2*tol)\n",
    "    h_step = h\n",
    "\n",
    "    while(Delta.max()/tol>1.0):\n",
    "        y_2 = rk4_mv_core(dydx,x_i,y_i,nv,h_step)\n",
    "        y_1 = rk4_mv_core(dydx,x_i,y_i,nv,0.5*h_step)\n",
    "        y_11 = rk4_mv_core(dydx,x_i+0.5*h_step,y_1,nv,0.5*h_step)\n",
    "        Delta = np.fabs(y_2 - y_11)\n",
    "        \n",
    "        if(Delta.max()/tol>1.0):\n",
    "            h_step *= SAFETY * (Delta.max()/tol)**(-0.25)\n",
    "            \n",
    "        if(i>=imax):\n",
    "            print(\"Too many iterations in rk4_mv_ad\")\n",
    "            raise StopIteration(\"Ending after i = \",i)\n",
    "            \n",
    "        i += 1\n",
    "        \n",
    "    h_new = np.fmin(h_step * (Delta.max()/tol)**(-0.9), h_step*H_NEW_FAC)\n",
    "    return y_2, h_new, h_step"
   ]
  },
  {
   "cell_type": "markdown",
   "metadata": {},
   "source": [
    "## Define a wrapper for RK4"
   ]
  },
  {
   "cell_type": "code",
   "execution_count": null,
   "metadata": {},
   "outputs": [],
   "source": [
    "def rk4_mv(dydx,a,b,y_a,tol):\n",
    "    xi = a\n",
    "    yi = y_a.copy()\n",
    "    h = 1.0e-4*(b-a)\n",
    "    imax = 10000\n",
    "    i = 0\n",
    "    \n",
    "    nv = len(y_a)\n",
    "    x = np.full(1,a)\n",
    "    y = np.full((1,nv),y_a)\n",
    "    flag = 1\n",
    "\n",
    "    while(flag):\n",
    "        yi_new, h_new, h_step = rk4_mv_ad(dydx,xi,yi,nv,h,tol)\n",
    "        h = h_new\n",
    "        \n",
    "        if(xi+h_step>b):\n",
    "            h = b-xi\n",
    "            yi_new, h_new, h_step = rk4_mv_ad(dydx,xi,yi,nv,h,tol)\n",
    "            flag = 0\n",
    "            \n",
    "        xi += h_step\n",
    "        yi[:] = yi_new[:]\n",
    "\n",
    "        x = np.append(x,xi)\n",
    "        y_new = np.zeros((len(x),nv))\n",
    "        y_new[0:len(x)-1,:] = y\n",
    "        y_new[-1,:] = yi[:]\n",
    "        del y\n",
    "        y = y_new\n",
    "\n",
    "        if(i>=imax):\n",
    "            print(\"Maximum iterations reached.\")\n",
    "            raise StopIteration(\"Iteration number = \",i)\n",
    "            \n",
    "        i += 1\n",
    "\n",
    "        s = \"i = %3d\\tx = %9.8f\\th = %9.8f\\tb = %9.8f\" % (i,xi,h_step,b)\n",
    "        print(s)\n",
    "        \n",
    "        if(xi==b):\n",
    "            flag = 0\n",
    "    \n",
    "    return x,y"
   ]
  },
  {
   "cell_type": "markdown",
   "metadata": {},
   "source": [
    "## Perform the Integration"
   ]
  },
  {
   "cell_type": "code",
   "execution_count": null,
   "metadata": {},
   "outputs": [],
   "source": [
    "a = 0.0\n",
    "b = 2.0*np.pi\n",
    "y_0 = np.zeros(2)\n",
    "y_0[0] = 0.0\n",
    "y_0[1] = 1.0\n",
    "mv = 2\n",
    "tolerance = 1.0e-6\n",
    "\n",
    "x,y = rk4_mv(dydx,a,b,y_0,tolerance)"
   ]
  },
  {
   "cell_type": "markdown",
   "metadata": {},
   "source": [
    "## Plot the result"
   ]
  },
  {
   "cell_type": "code",
   "execution_count": null,
   "metadata": {},
   "outputs": [],
   "source": [
    "plt.figure(figsize=(8,5))\n",
    "plt.plot(x,y[:,0],'go',label='y(x)')\n",
    "plt.plot(x,y[:,1],'ro',label='dydx(x)')\n",
    "xx = np.linspace(0,2.0*np.pi,1000)\n",
    "plt.plot(xx,np.sin(xx),'b',label='sin(x)')\n",
    "plt.plot(xx,np.cos(xx),'k',label='cos(x)')\n",
    "plt.xlabel('x')\n",
    "plt.ylabel('y, dy/dx')\n",
    "plt.legend(frameon=False,prop={'size':12})"
   ]
  },
  {
   "cell_type": "markdown",
   "metadata": {},
   "source": [
    "## Plot the error"
   ]
  },
  {
   "cell_type": "code",
   "execution_count": null,
   "metadata": {},
   "outputs": [],
   "source": [
    "sine = np.sin(x)\n",
    "cosine = np.cos(x)\n",
    "\n",
    "y_error = (y[:,0]-sine)\n",
    "dydx_error=(y[:,1]-cosine)\n",
    "\n",
    "plt.figure(figsize=(8,5))\n",
    "plt.plot(x,y_error,'b',label=\"y(x) Error\")\n",
    "plt.plot(x,dydx_error,'r',label=\"dydx(x) Error\")\n",
    "plt.legend(loc='lower left',frameon=False,prop={'size':12})"
   ]
  },
  {
   "cell_type": "code",
   "execution_count": null,
   "metadata": {},
   "outputs": [],
   "source": []
  }
 ],
 "metadata": {
  "kernelspec": {
   "display_name": "Python 3",
   "language": "python",
   "name": "python3"
  },
  "language_info": {
   "codemirror_mode": {
    "name": "ipython",
    "version": 3
   },
   "file_extension": ".py",
   "mimetype": "text/x-python",
   "name": "python",
   "nbconvert_exporter": "python",
   "pygments_lexer": "ipython3",
   "version": "3.6.6"
  }
 },
 "nbformat": 4,
 "nbformat_minor": 2
}
